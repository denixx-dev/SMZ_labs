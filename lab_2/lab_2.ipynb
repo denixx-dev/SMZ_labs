{
 "cells": [
  {
   "cell_type": "code",
   "execution_count": 3,
   "metadata": {},
   "outputs": [],
   "source": [
    "import numpy as np\n",
    "import torch\n",
    "from torch.nn.functional import conv3d as libConv3d\n",
    "import pytest"
   ]
  },
  {
   "cell_type": "code",
   "execution_count": 5,
   "metadata": {},
   "outputs": [],
   "source": [
    "# %%file conv3D.py\n",
    "\n",
    "import numpy as np\n",
    "\n",
    "def conv3D(input_array, kernel_array, stride = 1, padding= 0):\n",
    "    if input_array.ndim != 3 or kernel_array.ndim != 3:\n",
    "        raise ValueError(\"Input and kernel arrays must be 3D with layout 'NHWDC'\")\n",
    "    input_array = np.pad(input_array, padding, mode='constant')\n",
    "    output_height = (input_array.shape[0] - kernel_array.shape[0]) // stride + 1\n",
    "    output_width = (input_array.shape[1] - kernel_array.shape[1]) // stride + 1\n",
    "    output_depth = (input_array.shape[2] - kernel_array.shape[2]) // stride + 1\n",
    "    output_array = np.zeros((output_height, output_width, output_depth))\n",
    "    for i in range(output_depth):\n",
    "        for j in range(output_width):\n",
    "            for k in range(output_height):\n",
    "                window = input_array[k:k+kernel_array.shape[0], j:j+kernel_array.shape[1], i:i+kernel_array.shape[2]]\n",
    "                output_array[k, j, i] = np.sum(window * kernel_array)\n",
    "\n",
    "    return output_array"
   ]
  },
  {
   "cell_type": "code",
   "execution_count": 8,
   "metadata": {},
   "outputs": [
    {
     "name": "stdout",
     "output_type": "stream",
     "text": [
      "Результат использования нашей функции Convolution3D в тесте 1:\n",
      "tensor([[[6.1808, 5.4586],\n",
      "         [5.1168, 5.0686]],\n",
      "\n",
      "        [[5.9787, 6.4095],\n",
      "         [5.0561, 5.9502]]], dtype=torch.float64)\n",
      "\n",
      "Результат использования функции Conv3d библиотеки PyTorch в тесте 1:\n",
      "tensor([[[[[6.1808, 5.4586],\n",
      "           [5.1168, 5.0686]],\n",
      "\n",
      "          [[5.9787, 6.4095],\n",
      "           [5.0561, 5.9502]]]]], dtype=torch.float64)\n"
     ]
    },
    {
     "data": {
      "text/plain": [
       "True"
      ]
     },
     "execution_count": 8,
     "metadata": {},
     "output_type": "execute_result"
    }
   ],
   "source": [
    "input_a = np.random.rand(4, 4, 4)\n",
    "kernel = np.random.rand(3, 3, 3)\n",
    "test1_output1 = conv3D(input_a, kernel)\n",
    "test1_output1 = torch.from_numpy(test1_output1)\n",
    "print(\"Результат использования нашей функции Convolution3D в тесте 1:\")\n",
    "print(test1_output1)\n",
    "print(\"\\nРезультат использования функции Conv3d библиотеки PyTorch в тесте 1:\")\n",
    "#конвертация\n",
    "input_t = torch.tensor(input_a).unsqueeze(0).unsqueeze(0)\n",
    "kernel_t = torch.tensor(kernel).unsqueeze(0).unsqueeze(0)\n",
    "test1_output2 = libConv3d(input_t, kernel_t)\n",
    "print(test1_output2)\n",
    "\n",
    "test1_output1 = test1_output1.to(test1_output2.dtype)\n",
    "\n",
    "torch.allclose(test1_output1, test1_output2)"
   ]
  },
  {
   "cell_type": "code",
   "execution_count": null,
   "metadata": {},
   "outputs": [],
   "source": []
  }
 ],
 "metadata": {
  "kernelspec": {
   "display_name": ".venv",
   "language": "python",
   "name": "python3"
  },
  "language_info": {
   "codemirror_mode": {
    "name": "ipython",
    "version": 3
   },
   "file_extension": ".py",
   "mimetype": "text/x-python",
   "name": "python",
   "nbconvert_exporter": "python",
   "pygments_lexer": "ipython3",
   "version": "3.11.3"
  }
 },
 "nbformat": 4,
 "nbformat_minor": 2
}
