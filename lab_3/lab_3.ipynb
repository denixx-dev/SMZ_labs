{
 "cells": [
  {
   "cell_type": "code",
   "execution_count": 2,
   "metadata": {},
   "outputs": [],
   "source": [
    "import numpy as np\n",
    "from torch import nn\n",
    "import torch\n",
    "import pytest\n"
   ]
  },
  {
   "cell_type": "code",
   "execution_count": 29,
   "metadata": {},
   "outputs": [
    {
     "name": "stdout",
     "output_type": "stream",
     "text": [
      "Writing conv_transpose.py\n"
     ]
    }
   ],
   "source": [
    "%%file conv_transpose.py\n",
    "\n",
    "def conv_transpose(input, weight, bias=None, stride=1, padding=0, output_padding=0, groups=1, dilation=1):\n",
    "    batch_size, in_channels, in_height, in_width = input.shape\n",
    "    out_channels, in_channels, kernel_height, kernel_width = weight.shape\n",
    "    out_height = (in_height - 1) * stride - 2 * padding + kernel_height + output_padding\n",
    "    out_width = (in_width - 1) * stride - 2 * padding + kernel_width + output_padding\n",
    "    output = np.zeros((batch_size, out_channels, out_height, out_width))\n",
    "    for b in range(batch_size):\n",
    "        for c in range(out_channels):\n",
    "            for i in range(out_height):\n",
    "                for j in range(out_width):\n",
    "                    for k in range(in_channels):\n",
    "                        for s in range(kernel_height):\n",
    "                            for t in range(kernel_width):\n",
    "                                ii = i + padding - s * dilation\n",
    "                                jj = j + padding - t * dilation\n",
    "                                if ii >= 0 and jj >= 0 and ii < in_height * stride and jj < in_width * stride and (ii % stride == 0) and (jj % stride == 0):\n",
    "                                    ii //= stride\n",
    "                                    jj //= stride\n",
    "                                    output[b, c, i, j] += input[b, k, ii, jj] * weight[c, k, s, t]\n",
    "            if bias is not None:\n",
    "                output[b, c, :, :] += bias[c]\n",
    "    return output\n"
   ]
  },
  {
   "cell_type": "code",
   "execution_count": 30,
   "metadata": {},
   "outputs": [
    {
     "name": "stdout",
     "output_type": "stream",
     "text": [
      "[[[[ 0.68636662  0.0527702  -2.08839497  2.40579349 -3.70227385]\n",
      "   [ 0.34910472  0.14816615 -3.01318112  7.85112751 -2.62486166]\n",
      "   [ 0.19530126  2.19017723 -1.55486235 -1.82652484 -0.07011274]\n",
      "   [ 0.51614574 -1.48924741  0.18732784  2.83440238 -1.18785825]\n",
      "   [-0.19654755  0.56382792  0.83627185 -1.3440052   0.2573778 ]]]]\n",
      "[[[[ 0.6863666   0.0527702  -2.0883949   2.4057934  -3.7022738 ]\n",
      "   [ 0.3491047   0.14816618 -3.0131812   7.8511276  -2.6248617 ]\n",
      "   [ 0.19530126  2.190177   -1.5548624  -1.8265249  -0.07011276]\n",
      "   [ 0.51614577 -1.4892474   0.18732795  2.8344026  -1.1878582 ]\n",
      "   [-0.19654755  0.56382793  0.8362719  -1.3440052   0.2573778 ]]]]\n"
     ]
    }
   ],
   "source": [
    "input_data = torch.randn(1, 1, 3, 3)\n",
    "weight = torch.randn(1, 1, 3, 3)\n",
    "\n",
    "your_result = conv_transpose(input_data.numpy(), weight.numpy())\n",
    "torch_result = torch.nn.functional.conv_transpose2d(input_data, weight).numpy()\n",
    "\n",
    "print(your_result)\n",
    "print(torch_result)"
   ]
  }
 ],
 "metadata": {
  "kernelspec": {
   "display_name": ".venv",
   "language": "python",
   "name": "python3"
  },
  "language_info": {
   "codemirror_mode": {
    "name": "ipython",
    "version": 3
   },
   "file_extension": ".py",
   "mimetype": "text/x-python",
   "name": "python",
   "nbconvert_exporter": "python",
   "pygments_lexer": "ipython3",
   "version": "3.11.3"
  }
 },
 "nbformat": 4,
 "nbformat_minor": 2
}
