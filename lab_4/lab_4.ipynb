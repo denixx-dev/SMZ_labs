{
 "cells": [
  {
   "cell_type": "code",
   "execution_count": 3,
   "metadata": {},
   "outputs": [],
   "source": [
    "import numpy as np\n",
    "from torch import nn\n",
    "import torch\n",
    "import pytest"
   ]
  },
  {
   "cell_type": "code",
   "execution_count": 108,
   "metadata": {},
   "outputs": [],
   "source": [
    "# %%file upsample_bilinear.py\n",
    "\n",
    "def upsample_bilinear(input_tensor, size):\n",
    "    N, C, H, W = input_tensor.shape\n",
    "    new_H, new_W = size\n",
    "\n",
    "    scale_factor_H = new_H / H\n",
    "    scale_factor_W = new_W / W\n",
    "\n",
    "    output_np = np.empty((N, C, new_H, new_W))\n",
    "\n",
    "    for n in range(N):\n",
    "        for c in range(C):\n",
    "            for i in range(new_H):\n",
    "                for j in range(new_W):\n",
    "                    x = (i + 0.5) / scale_factor_H - 0.5\n",
    "                    y = (j + 0.5) / scale_factor_W - 0.5\n",
    "                    x0 = int(np.floor(x))\n",
    "                    x1 = min(x0 + 1, H - 1)\n",
    "                    y0 = int(np.floor(y))\n",
    "                    y1 = min(y0 + 1, W - 1)\n",
    "\n",
    "                    output_np[n, c, i, j] = (input_tensor[n, c, x0, y0] * (x1 - x) * (y1 - y) +\n",
    "                                             input_tensor[n, c, x0, y1] * (x1 - x) * (y - y0) +\n",
    "                                             input_tensor[n, c, x1, y0] * (x - x0) * (y1 - y) +\n",
    "                                             input_tensor[n, c, x1, y1] * (x - x0) * (y - y0))\n",
    "\n",
    "    return torch.from_numpy(output_np).double()"
   ]
  },
  {
   "cell_type": "code",
   "execution_count": 111,
   "metadata": {},
   "outputs": [
    {
     "data": {
      "text/plain": [
       "tensor([[[[0.9890, 0.0861],\n",
       "          [0.2237, 0.4252]],\n",
       "\n",
       "         [[0.6280, 0.2335],\n",
       "          [0.5173, 0.7760]],\n",
       "\n",
       "         [[0.5638, 0.3896],\n",
       "          [0.9897, 0.1961]]]], dtype=torch.float64)"
      ]
     },
     "execution_count": 111,
     "metadata": {},
     "output_type": "execute_result"
    }
   ],
   "source": [
    "input_tensor = torch.rand(1, 3, 6, 6)\n",
    "output_size = (2, 2)\n",
    "upsample_bilinear(input_tensor, output_size)"
   ]
  },
  {
   "cell_type": "code",
   "execution_count": 112,
   "metadata": {},
   "outputs": [
    {
     "data": {
      "text/plain": [
       "tensor([[[[0.9890, 0.0861],\n",
       "          [0.2237, 0.4252]],\n",
       "\n",
       "         [[0.6280, 0.2335],\n",
       "          [0.5173, 0.7760]],\n",
       "\n",
       "         [[0.5638, 0.3896],\n",
       "          [0.9897, 0.1961]]]])"
      ]
     },
     "execution_count": 112,
     "metadata": {},
     "output_type": "execute_result"
    }
   ],
   "source": [
    "output_torch = torch.nn.functional.interpolate(input_tensor, size=output_size, mode='bilinear')\n",
    "output_torch"
   ]
  }
 ],
 "metadata": {
  "kernelspec": {
   "display_name": ".venv",
   "language": "python",
   "name": "python3"
  },
  "language_info": {
   "codemirror_mode": {
    "name": "ipython",
    "version": 3
   },
   "file_extension": ".py",
   "mimetype": "text/x-python",
   "name": "python",
   "nbconvert_exporter": "python",
   "pygments_lexer": "ipython3",
   "version": "3.11.3"
  }
 },
 "nbformat": 4,
 "nbformat_minor": 2
}
