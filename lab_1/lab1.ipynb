{
 "cells": [
  {
   "cell_type": "code",
   "execution_count": 1,
   "metadata": {},
   "outputs": [],
   "source": [
    "import numpy as np\n",
    "import torch\n",
    "from torch.nn.functional import conv2d as libConv2d\n",
    "import pytest"
   ]
  },
  {
   "cell_type": "code",
   "execution_count": 4,
   "metadata": {},
   "outputs": [
    {
     "name": "stdout",
     "output_type": "stream",
     "text": [
      "Overwriting conv2D.py\n"
     ]
    }
   ],
   "source": [
    "%%file conv2D.py\n",
    "import numpy as np\n",
    "\n",
    "def conv2D(input_tensor, weight_tensor, padding=0, dilation=1, stride=1, groups = 1):\n",
    "    # Get input dimensions\n",
    "    image_height, image_width  = input_tensor.shape\n",
    "    weight_height, weight_width  = weight_tensor.shape\n",
    "\n",
    "    # Calculate output dimensions\n",
    "    H_out = int((image_height - weight_height + 2 * padding) / stride) + 1\n",
    "    W_out = int((image_width - weight_width + 2 * padding) / stride) + 1\n",
    "\n",
    "    #создание результирующего изображения\n",
    "    result = np.zeros((H_out, W_out))\n",
    "    #добавление padding (добавление нулей вокруг входной матрицы)\n",
    "    if padding > 0:\n",
    "        input_tensor = np.pad(input_tensor, padding, mode='constant')\n",
    "    #проход ядром по изображению\n",
    "    for y in range(H_out):\n",
    "        for x in range(W_out):\n",
    "            result[y, x] = np.sum(input_tensor[y*stride:y*stride+weight_height, x*stride:x*stride+weight_width] * weight_tensor)\n",
    "    return result"
   ]
  },
  {
   "cell_type": "code",
   "execution_count": 103,
   "metadata": {},
   "outputs": [
    {
     "name": "stdout",
     "output_type": "stream",
     "text": [
      "Результат использования нашей функции Convolution2D в тесте 1:\n",
      "tensor([[ 4.9497,  0.5086, -5.7789],\n",
      "        [ 1.3994,  3.1297,  0.4263],\n",
      "        [-1.2416,  3.1127, -0.5508]], dtype=torch.float64)\n",
      "Результат использования функции Conv2d библиотеки PyTorch в тесте 1:\n",
      "tensor([[[[ 4.9497,  0.5086, -5.7789],\n",
      "          [ 1.3994,  3.1297,  0.4263],\n",
      "          [-1.2416,  3.1127, -0.5508]]]])\n"
     ]
    },
    {
     "data": {
      "text/plain": [
       "True"
      ]
     },
     "execution_count": 103,
     "metadata": {},
     "output_type": "execute_result"
    }
   ],
   "source": [
    "image = torch.randn(1, 1, 5, 5) #задание изображения\n",
    "kernel = torch.randn(1, 1, 3, 3) #задание ядра свёртки\n",
    "#результат использования нашей функции Convolution2D\n",
    "test1_output1 = torch.from_numpy(conv2D(image[0, 0].numpy(), kernel[0, 0].numpy()))\n",
    "\n",
    "print(\"Результат использования нашей функции Convolution2D в тесте 1:\")\n",
    "print(test1_output1)\n",
    "print(\"Результат использования функции Conv2d библиотеки PyTorch в тесте 1:\")\n",
    "test1_output2 = libConv2d(image, kernel)\n",
    "print(test1_output2)\n",
    "\n",
    "test1_output1 = test1_output1.to(test1_output2.dtype)\n",
    "\n",
    "torch.allclose(test1_output1, test1_output2)"
   ]
  },
  {
   "cell_type": "code",
   "execution_count": 104,
   "metadata": {},
   "outputs": [
    {
     "name": "stdout",
     "output_type": "stream",
     "text": [
      "Результат использования нашей функции Convolution2D в тесте 1:\n",
      "tensor([[-0.3706, -0.0492],\n",
      "        [-0.3375,  1.3711]], dtype=torch.float64)\n",
      "Результат использования функции Conv2d библиотеки PyTorch в тесте 1:\n",
      "tensor([[[[-0.3706, -0.0492],\n",
      "          [-0.3375,  1.3711]]]])\n"
     ]
    },
    {
     "data": {
      "text/plain": [
       "True"
      ]
     },
     "execution_count": 104,
     "metadata": {},
     "output_type": "execute_result"
    }
   ],
   "source": [
    "image = torch.randn(1, 1, 4, 4) #задание изображения\n",
    "kernel = torch.randn(1, 1, 2, 2) #задание ядра свёртки\n",
    "#результат использования нашей функции Convolution2D\n",
    "test1_output1 = torch.from_numpy(conv2D(image[0, 0].numpy(), kernel[0, 0].numpy(), stride = 2))\n",
    "\n",
    "print(\"Результат использования нашей функции Convolution2D в тесте 1:\")\n",
    "print(test1_output1)\n",
    "print(\"Результат использования функции Conv2d библиотеки PyTorch в тесте 1:\")\n",
    "test1_output2 = libConv2d(image, kernel, stride = 2)\n",
    "print(test1_output2)\n",
    "\n",
    "test1_output1 = test1_output1.to(test1_output2.dtype)\n",
    "\n",
    "torch.allclose(test1_output1, test1_output2)"
   ]
  },
  {
   "cell_type": "code",
   "execution_count": 101,
   "metadata": {},
   "outputs": [
    {
     "name": "stdout",
     "output_type": "stream",
     "text": [
      "Результат использования нашей функции Convolution2D в тесте 1:\n",
      "tensor([[-3.8708,  2.3698],\n",
      "        [ 1.9609, -1.9370]], dtype=torch.float64)\n",
      "Результат использования функции Conv2d библиотеки PyTorch в тесте 1:\n",
      "tensor([[[[-3.8708,  2.3698],\n",
      "          [ 1.9609, -1.9370]]]])\n"
     ]
    },
    {
     "data": {
      "text/plain": [
       "True"
      ]
     },
     "execution_count": 101,
     "metadata": {},
     "output_type": "execute_result"
    }
   ],
   "source": [
    "image = torch.randn(1, 1, 6, 6) #задание изображения\n",
    "kernel = torch.randn(1, 1, 3, 3) #задание ядра свёртки\n",
    "#результат использования нашей функции Convolution2D\n",
    "test1_output1 = torch.from_numpy(conv2D(image[0, 0].numpy(), kernel[0, 0].numpy(), stride = 2))\n",
    "\n",
    "print(\"Результат использования нашей функции Convolution2D в тесте 1:\")\n",
    "print(test1_output1)\n",
    "print(\"Результат использования функции Conv2d библиотеки PyTorch в тесте 1:\")\n",
    "test1_output2 = libConv2d(image, kernel, stride = 2)\n",
    "print(test1_output2)\n",
    "\n",
    "test1_output1 = test1_output1.to(test1_output2.dtype)\n",
    "\n",
    "torch.allclose(test1_output1, test1_output2)"
   ]
  },
  {
   "cell_type": "code",
   "execution_count": null,
   "metadata": {},
   "outputs": [],
   "source": []
  }
 ],
 "metadata": {
  "kernelspec": {
   "display_name": ".venv",
   "language": "python",
   "name": "python3"
  },
  "language_info": {
   "codemirror_mode": {
    "name": "ipython",
    "version": 3
   },
   "file_extension": ".py",
   "mimetype": "text/x-python",
   "name": "python",
   "nbconvert_exporter": "python",
   "pygments_lexer": "ipython3",
   "version": "3.11.3"
  }
 },
 "nbformat": 4,
 "nbformat_minor": 2
}
