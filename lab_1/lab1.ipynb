{
 "cells": [
  {
   "cell_type": "code",
   "execution_count": null,
   "metadata": {},
   "outputs": [],
   "source": [
    "import numpy as np\n",
    "import torch\n",
    "from torch.nn.functional import conv2d as libConv2d\n",
    "import pytest"
   ]
  },
  {
   "cell_type": "code",
   "execution_count": null,
   "metadata": {},
   "outputs": [],
   "source": [
    "%%file conv2D.py\n",
    "import numpy as np\n",
    "\n",
    "def conv2D(input_tensor, weight_tensor, padding=0, dilation=1, stride=1, groups = 1):\n",
    "    image_height, image_width  = input_tensor.shape\n",
    "    weight_height, weight_width  = weight_tensor.shape\n",
    "\n",
    "    H_out = int((image_height - dilation * (weight_height - 1) - 1 + 2 * padding) / stride) + 1\n",
    "    W_out = int((image_width - dilation * (weight_width - 1) - 1 + 2 * padding) / stride) + 1\n",
    "\n",
    "    result = np.zeros((H_out, W_out))\n",
    "\n",
    "    if padding > 0:\n",
    "        input_tensor = np.pad(input_tensor, padding, mode='constant')\n",
    "\n",
    "    for y in range(H_out):\n",
    "        for x in range(W_out):\n",
    "            result[y, x] = np.sum(input_tensor[y*stride:y*stride+weight_height, x*stride:x*stride+weight_width] * weight_tensor)\n",
    "    return result"
   ]
  },
  {
   "cell_type": "code",
   "execution_count": null,
   "metadata": {},
   "outputs": [],
   "source": [
    "image = torch.randn(1, 1, 5, 5) \n",
    "kernel = torch.randn(1, 1, 3, 3) \n",
    "\n",
    "test1_output1 = torch.from_numpy(conv2D(image[0, 0].numpy(), kernel[0, 0].numpy()))\n",
    "\n",
    "print(\"Результат использования нашей функции Convolution2D в тесте 1:\")\n",
    "print(test1_output1)\n",
    "print(\"Результат использования функции Conv2d библиотеки PyTorch в тесте 1:\")\n",
    "test1_output2 = libConv2d(image, kernel)\n",
    "print(test1_output2)\n",
    "\n",
    "test1_output1 = test1_output1.to(test1_output2.dtype)\n",
    "\n",
    "torch.allclose(test1_output1, test1_output2)"
   ]
  },
  {
   "cell_type": "code",
   "execution_count": null,
   "metadata": {},
   "outputs": [],
   "source": [
    "image = torch.randn(1, 1, 4, 4) \n",
    "kernel = torch.randn(1, 1, 2, 2) \n",
    "test1_output1 = torch.from_numpy(conv2D(image[0, 0].numpy(), kernel[0, 0].numpy(), stride = 2))\n",
    "\n",
    "print(\"Результат использования нашей функции Convolution2D в тесте 1:\")\n",
    "print(test1_output1)\n",
    "print(\"Результат использования функции Conv2d библиотеки PyTorch в тесте 1:\")\n",
    "test1_output2 = libConv2d(image, kernel, stride = 2)\n",
    "print(test1_output2)\n",
    "\n",
    "test1_output1 = test1_output1.to(test1_output2.dtype)\n",
    "\n",
    "torch.allclose(test1_output1, test1_output2)"
   ]
  },
  {
   "cell_type": "code",
   "execution_count": null,
   "metadata": {},
   "outputs": [],
   "source": [
    "image = torch.randn(1, 1, 6, 6) \n",
    "kernel = torch.randn(1, 1, 3, 3)\n",
    "\n",
    "test1_output1 = torch.from_numpy(conv2D(image[0, 0].numpy(), kernel[0, 0].numpy(), stride = 2))\n",
    "\n",
    "print(\"Результат использования нашей функции Convolution2D в тесте 1:\")\n",
    "print(test1_output1)\n",
    "print(\"Результат использования функции Conv2d библиотеки PyTorch в тесте 1:\")\n",
    "test1_output2 = libConv2d(image, kernel, stride = 2)\n",
    "print(test1_output2)\n",
    "\n",
    "test1_output1 = test1_output1.to(test1_output2.dtype)\n",
    "\n",
    "torch.allclose(test1_output1, test1_output2)"
   ]
  },
  {
   "cell_type": "code",
   "execution_count": null,
   "metadata": {},
   "outputs": [],
   "source": []
  }
 ],
 "metadata": {
  "kernelspec": {
   "display_name": ".venv",
   "language": "python",
   "name": "python3"
  },
  "language_info": {
   "codemirror_mode": {
    "name": "ipython",
    "version": 3
   },
   "file_extension": ".py",
   "mimetype": "text/x-python",
   "name": "python",
   "nbconvert_exporter": "python",
   "pygments_lexer": "ipython3",
   "version": "3.11.3"
  }
 },
 "nbformat": 4,
 "nbformat_minor": 2
}
